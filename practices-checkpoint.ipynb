{
 "cells": [
  {
   "cell_type": "code",
   "execution_count": 4,
   "metadata": {},
   "outputs": [
    {
     "name": "stdout",
     "output_type": "stream",
     "text": [
      "20\n",
      "himal\n",
      "If your surname is true then it is  True\n"
     ]
    }
   ],
   "source": [
    "price = 10\n",
    "price = 20\n",
    "name = \"himal\"\n",
    "is_bohara = True\n",
    "print(price)\n",
    "print(name)\n",
    "print(\"If your surname is true then it is \", is_bohara)"
   ]
  },
  {
   "cell_type": "code",
   "execution_count": 10,
   "metadata": {},
   "outputs": [
    {
     "name": "stdout",
     "output_type": "stream",
     "text": [
      "What is your name?HImal\n",
      "Hi HImal\n"
     ]
    }
   ],
   "source": [
    "#Getting input\n",
    "name = input(\"What is your name?\")\n",
    "print(\"Hi \" + name)"
   ]
  },
  {
   "cell_type": "code",
   "execution_count": 12,
   "metadata": {},
   "outputs": [
    {
     "name": "stdout",
     "output_type": "stream",
     "text": [
      "what is your name? HImal\n",
      "What is your favourite color? Blue\n",
      "Hi HImal Your favourite color is Blue\n"
     ]
    }
   ],
   "source": [
    "name = input(\"what is your name? \")\n",
    "color = input(\"What is your favourite color? \")\n",
    "print(\"Hi \"+name+\" Your favourite color is \"+ color)"
   ]
  },
  {
   "cell_type": "code",
   "execution_count": 40,
   "metadata": {},
   "outputs": [
    {
     "name": "stdout",
     "output_type": "stream",
     "text": [
      "What is your birth year?1994\n",
      "<class 'bool'>\n",
      "<class 'int'>\n",
      "your age is  27\n",
      "\n"
     ]
    }
   ],
   "source": [
    "# Type Conversion\n",
    "birth_year = int(input(\"What is your birth year?\"))\n",
    "age = 2021 - birth_year\n",
    "is_name = True\n",
    "print(type(is_name))\n",
    "print(type(age))\n",
    "print(\"your age is \",age)\n",
    "print()"
   ]
  },
  {
   "cell_type": "code",
   "execution_count": 28,
   "metadata": {},
   "outputs": [
    {
     "name": "stdout",
     "output_type": "stream",
     "text": [
      "\n",
      "my name is Kshetraphal Bohara. \n",
      "I live in kirtipur kathmandu. \n",
      "I do not have many friends. \n",
      "I spend most of my time bye watching movies.\n",
      "h\n",
      "shetraphal Bohara\n",
      "a\n",
      "Kshetraphal Bohar\n",
      "sh\n",
      "'Bohara'\n"
     ]
    }
   ],
   "source": [
    "# Strings\n",
    "my_description = '''\n",
    "my name is Kshetraphal Bohara. \n",
    "I live in kirtipur kathmandu. \n",
    "I do not have many friends. \n",
    "I spend most of my time bye watching movies.'''\n",
    "print(my_description)\n",
    "\n",
    "name = \"Kshetraphal Bohara\"\n",
    "print(name[2])\n",
    "print(name[1:])\n",
    "print(name[-1])  # excludes the last element\n",
    "print(name[0:-1])\n",
    "print(name[1:3])\n",
    "\n",
    "surname = \"'Bohara'\"\n",
    "print(surname)"
   ]
  },
  {
   "cell_type": "code",
   "execution_count": 37,
   "metadata": {},
   "outputs": [
    {
     "name": "stdout",
     "output_type": "stream",
     "text": [
      "Himal[Bohara] is a coder\n",
      "Himal[Bohara] is a coder\n",
      "Himal is sincere guy. [Bohara] is a last name of him\n"
     ]
    }
   ],
   "source": [
    "#formateed string\n",
    "first = \"Himal\"\n",
    "last = \"Bohara\"\n",
    "message = first + '[' + last + '] is a coder'\n",
    "print(message)\n",
    "msg = f'{first}[{last}] is a coder'\n",
    "print(msg)\n",
    "jpt = f'{first} is sincere guy. [{last}] is a last name of him'\n",
    "print(jpt)"
   ]
  },
  {
   "cell_type": "code",
   "execution_count": 56,
   "metadata": {},
   "outputs": [
    {
     "name": "stdout",
     "output_type": "stream",
     "text": [
      "My name is Kshetraphal Bohara\n",
      "MY NAME IS KSHETRAPHAL BOHARA\n",
      "my name is kshetraphal bohara\n",
      "29\n",
      "11\n",
      "-1\n",
      "My name is Kshetraphal Bohara Sharma\n",
      "True\n",
      "False\n",
      "My Name Is Kshetraphal Bohara\n"
     ]
    }
   ],
   "source": [
    "# string related functions\n",
    "my_name = \"My name is Kshetraphal Bohara\"\n",
    "print(my_name)\n",
    "print(my_name.upper())\n",
    "print(my_name.lower())\n",
    "print(len(my_name))\n",
    "print(my_name.find('K'))\n",
    "print(my_name.find('j'))\n",
    "modified = my_name.replace('Bohara', 'Bohara Sharma')\n",
    "print(modified)\n",
    "print(\"Kshetraphal\" in my_name)\n",
    "print('jpt' in my_name)\n",
    "print(my_name.title())"
   ]
  },
  {
   "cell_type": "code",
   "execution_count": null,
   "metadata": {},
   "outputs": [],
   "source": []
  }
 ],
 "metadata": {
  "kernelspec": {
   "display_name": "Python 3",
   "language": "python",
   "name": "python3"
  },
  "language_info": {
   "codemirror_mode": {
    "name": "ipython",
    "version": 3
   },
   "file_extension": ".py",
   "mimetype": "text/x-python",
   "name": "python",
   "nbconvert_exporter": "python",
   "pygments_lexer": "ipython3",
   "version": "3.8.5"
  }
 },
 "nbformat": 4,
 "nbformat_minor": 4
}
